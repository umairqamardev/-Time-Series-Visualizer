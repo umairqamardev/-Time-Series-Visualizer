{
  "metadata": {
    "kernelspec": {
      "name": "python",
      "display_name": "Python (Pyodide)",
      "language": "python"
    },
    "language_info": {
      "codemirror_mode": {
        "name": "python",
        "version": 3
      },
      "file_extension": ".py",
      "mimetype": "text/x-python",
      "name": "python",
      "nbconvert_exporter": "python",
      "pygments_lexer": "ipython3",
      "version": "3.8"
    }
  },
  "nbformat_minor": 5,
  "nbformat": 4,
  "cells": [
    {
      "id": "15b0b86d-8815-4efe-a055-b37614596826",
      "cell_type": "code",
      "source": "%pip install seaborn",
      "metadata": {
        "trusted": true
      },
      "outputs": [],
      "execution_count": 13
    },
    {
      "id": "721c2802-f68a-400d-b6ce-7991ea8ae68a",
      "cell_type": "code",
      "source": "%matplotlib inline\n",
      "metadata": {
        "trusted": true
      },
      "outputs": [],
      "execution_count": 14
    },
    {
      "id": "b92fbb78-bafc-4f73-bde2-05bdb74af5ae",
      "cell_type": "code",
      "source": "import pandas as pd\nimport matplotlib.pyplot as plt\nimport seaborn as sns",
      "metadata": {
        "trusted": true
      },
      "outputs": [],
      "execution_count": 15
    },
    {
      "id": "10293f38-7c16-4a7c-8ff8-ec27a774c5c8",
      "cell_type": "code",
      "source": "# Load the dataset\ndf = pd.read_csv('fcc-forum-pageviews.csv', index_col='date', parse_dates=True)\n\n# Show the first few rows of the data\ndf.head()\n",
      "metadata": {
        "trusted": true
      },
      "outputs": [
        {
          "execution_count": 16,
          "output_type": "execute_result",
          "data": {
            "text/plain": "            value\ndate             \n2016-05-09   1201\n2016-05-10   2329\n2016-05-11   1716\n2016-05-12  10539\n2016-05-13   6933",
            "text/html": "<div>\n<style scoped>\n    .dataframe tbody tr th:only-of-type {\n        vertical-align: middle;\n    }\n\n    .dataframe tbody tr th {\n        vertical-align: top;\n    }\n\n    .dataframe thead th {\n        text-align: right;\n    }\n</style>\n<table border=\"1\" class=\"dataframe\">\n  <thead>\n    <tr style=\"text-align: right;\">\n      <th></th>\n      <th>value</th>\n    </tr>\n    <tr>\n      <th>date</th>\n      <th></th>\n    </tr>\n  </thead>\n  <tbody>\n    <tr>\n      <th>2016-05-09</th>\n      <td>1201</td>\n    </tr>\n    <tr>\n      <th>2016-05-10</th>\n      <td>2329</td>\n    </tr>\n    <tr>\n      <th>2016-05-11</th>\n      <td>1716</td>\n    </tr>\n    <tr>\n      <th>2016-05-12</th>\n      <td>10539</td>\n    </tr>\n    <tr>\n      <th>2016-05-13</th>\n      <td>6933</td>\n    </tr>\n  </tbody>\n</table>\n</div>"
          },
          "metadata": {}
        }
      ],
      "execution_count": 16
    },
    {
      "id": "10b7678b-c4b1-4c6a-80c8-b55a719f49bd",
      "cell_type": "code",
      "source": "# Step 3: Clean the data by filtering out days when the page views were in the top 2.5% or bottom 2.5% of the dataset\n# Calculate the 2.5% and 97.5% percentiles for the 'value' column\nlower_percentile = df['value'].quantile(0.025)\nupper_percentile = df['value'].quantile(0.975)\n\n# Filter the data to exclude the outliers\ndf_cleaned = df[(df['value'] >= lower_percentile) & (df['value'] <= upper_percentile)]\n",
      "metadata": {
        "trusted": true
      },
      "outputs": [],
      "execution_count": 17
    },
    {
      "id": "6714ce12-58ca-41c3-954c-73e170bd0148",
      "cell_type": "code",
      "source": "def draw_line_plot():\n    # Create a copy of the cleaned data to avoid modifying the original data\n    df_line = df_cleaned.copy()\n\n    # Create a line plot\n    plt.figure(figsize=(12, 6))\n    plt.plot(df_line.index, df_line['value'], color='blue')\n    \n    # Set the title and labels\n    plt.title('Daily freeCodeCamp Forum Page Views 5/2016-12/2019')\n    plt.xlabel('Date')\n    plt.ylabel('Page Views')\n    \n    # Show the plot\n    plt.tight_layout()\n    plt.show()\n",
      "metadata": {
        "trusted": true
      },
      "outputs": [],
      "execution_count": 18
    },
    {
      "id": "9a3c4bbe-ce03-4453-85c5-1cd1d86d9106",
      "cell_type": "code",
      "source": "def draw_bar_plot():\n    # Create a copy of the cleaned data for bar plot\n    df_bar = df_cleaned.copy()\n\n    # Set the year and month for grouping\n    df_bar['year'] = df_bar.index.year\n    df_bar['month'] = df_bar.index.month\n\n    # Calculate the average daily page views for each month grouped by year\n    df_monthly_avg = df_bar.groupby(['year', 'month'])['value'].mean().unstack()\n\n    # Create the bar plot\n    df_monthly_avg.plot(kind='bar', figsize=(12, 6))\n    \n    # Set the labels and title\n    plt.title('Average Daily Page Views per Month')\n    plt.xlabel('Years')\n    plt.ylabel('Average Page Views')\n    plt.legend(title='Months', labels=['Jan', 'Feb', 'Mar', 'Apr', 'May', 'Jun', 'Jul', 'Aug', 'Sep', 'Oct', 'Nov', 'Dec'])\n    \n    # Show the plot\n    plt.tight_layout()\n    plt.show()\n",
      "metadata": {
        "trusted": true
      },
      "outputs": [],
      "execution_count": 19
    },
    {
      "id": "8d0c2b7e-a155-4697-9343-2259d69088eb",
      "cell_type": "code",
      "source": "import seaborn as sns\n\ndef draw_box_plot():\n    # Create a copy of the cleaned data for box plot\n    df_box = df_cleaned.copy()\n\n    # Set the year and month for grouping\n    df_box['year'] = df_box.index.year\n    df_box['month'] = df_box.index.month\n\n    # Create a box plot for year-wise trend\n    plt.figure(figsize=(12, 6))\n    sns.boxplot(x='year', y='value', data=df_box)\n    plt.title('Year-wise Box Plot (Trend)')\n    plt.xlabel('Year')\n    plt.ylabel('Page Views')\n    plt.show()\n\n    # Create a box plot for month-wise seasonality\n    plt.figure(figsize=(12, 6))\n    sns.boxplot(x='month', y='value', data=df_box)\n    plt.title('Month-wise Box Plot (Seasonality)')\n    plt.xlabel('Month')\n    plt.ylabel('Page Views')\n    plt.show()\n",
      "metadata": {
        "trusted": true
      },
      "outputs": [],
      "execution_count": 20
    },
    {
      "id": "46d35b6f-6b45-4470-b4ad-8b67718db540",
      "cell_type": "code",
      "source": "",
      "metadata": {
        "trusted": true
      },
      "outputs": [],
      "execution_count": null
    }
  ]
}